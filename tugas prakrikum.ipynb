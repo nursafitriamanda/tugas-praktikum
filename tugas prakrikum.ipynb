{
 "cells": [
  {
   "cell_type": "markdown",
   "id": "23b5092a",
   "metadata": {},
   "source": [
    "# tugas praktikum \n"
   ]
  },
  {
   "cell_type": "markdown",
   "id": "19e53601",
   "metadata": {},
   "source": [
    "# latihan"
   ]
  },
  {
   "cell_type": "markdown",
   "id": "48864027",
   "metadata": {},
   "source": [
    "1. Buatlah variabel dengan nama hobi, yang digunakan untuk menampung input dari user dengan label \"Hobi kamu apa? : \" , kemudian Cetaklah dengan label Hobi kamu : {hobi}"
   ]
  },
  {
   "cell_type": "code",
   "execution_count": 2,
   "id": "5ca94078",
   "metadata": {},
   "outputs": [
    {
     "name": "stdout",
     "output_type": "stream",
     "text": [
      "masukan hobi kamu: memasak\n",
      "Hobi anda ada: memasak\n"
     ]
    }
   ],
   "source": [
    "hobi = input(\"masukan hobi kamu: \")\n",
    "print (f\"Hobi anda ada: {hobi}\")"
   ]
  },
  {
   "cell_type": "markdown",
   "id": "78c1d405",
   "metadata": {},
   "source": [
    "2. Buatlah variabel nama, yang digunakan untuk menampung input dari user dengan label \"Siapa nama kamu? : \" , misal user mengisikan nama \"Romi\" maka akan tampil output Nama kamu berawalan huruf R"
   ]
  },
  {
   "cell_type": "code",
   "execution_count": 1,
   "id": "9d5140e8",
   "metadata": {},
   "outputs": [
    {
     "name": "stdout",
     "output_type": "stream",
     "text": [
      "masukan nama anda: amanda nursapitri\n",
      "Huruf Awal Nama Anda: A\n"
     ]
    }
   ],
   "source": [
    "nama = input(\"masukan nama anda: \").upper()\n",
    "print(f\"Huruf Awal Nama Anda: {nama[0]}\")"
   ]
  },
  {
   "cell_type": "markdown",
   "id": "0bee2048",
   "metadata": {},
   "source": [
    "# latihan "
   ]
  },
  {
   "cell_type": "markdown",
   "id": "eb1429a3",
   "metadata": {},
   "source": [
    "1. buatlah program tebak hasil dari perkalian dari 2 angka 0 sampai 100 jika user menjawab benar maka tampil kan true jika jawaban salah dengan nilai false"
   ]
  },
  {
   "cell_type": "code",
   "execution_count": 8,
   "id": "0b98738d",
   "metadata": {},
   "outputs": [
    {
     "name": "stdout",
     "output_type": "stream",
     "text": [
      "berapakah perkalian 15 dan 48 : 720\n",
      "Jawaban Kamu True\n"
     ]
    }
   ],
   "source": [
    "from random import randint\n",
    "x = randint (0,100)\n",
    "y = randint (0,100)\n",
    "hasil = int(input(f\"berapakah perkalian {x} dan {y} : \"))\n",
    "print (f\"Jawaban Kamu {hasil==x * y}\")"
   ]
  },
  {
   "cell_type": "markdown",
   "id": "d57e9b7e",
   "metadata": {},
   "source": [
    "# latihan"
   ]
  },
  {
   "cell_type": "markdown",
   "id": "1101c76b",
   "metadata": {},
   "source": [
    "1. Carilah kode CLDR Names dan unicode dari emoji, dan cetaklah menggunakan fungsi print"
   ]
  },
  {
   "cell_type": "code",
   "execution_count": 11,
   "id": "212fa51a",
   "metadata": {},
   "outputs": [
    {
     "name": "stdout",
     "output_type": "stream",
     "text": [
      "Names: sad\n",
      "UNICODE: U0001F630\n",
      "😰\n"
     ]
    }
   ],
   "source": [
    "print(\"Names: sad\")\n",
    "print(\"UNICODE: U0001F630\")\n",
    "print(\"\\U0001F630\")"
   ]
  },
  {
   "cell_type": "markdown",
   "id": "b0fec361",
   "metadata": {},
   "source": [
    "# latihan"
   ]
  },
  {
   "cell_type": "markdown",
   "id": "826eb959",
   "metadata": {},
   "source": [
    "<h3>Latihan</h3>\n",
    "Jika terdapat sebuah string <b>Belajar Pemrograman Python</b> Maka tampilkan <b>output</b> berikut ini menggunakan fungsi <b>print</b><br>\n",
    "<ol>\n",
    "    <li>Belajar</li>\n",
    "    <li>ajar</li>\n",
    "    <li>Pemrograman</li>\n",
    "    <li>gram</li>\n",
    "    <li>Python</li>\n",
    "    <li>Py</li>\n",
    "    <li>gram Python</li>\n",
    "    <li>Pemrograman Python</li>\n",
    "</ol>"
   ]
  },
  {
   "cell_type": "code",
   "execution_count": 12,
   "id": "2df373cc",
   "metadata": {},
   "outputs": [
    {
     "name": "stdout",
     "output_type": "stream",
     "text": [
      "1. Belajar\n",
      "2. ajar\n",
      "3. Pemrograman\n",
      "4. gram\n",
      "5. Python\n",
      "6. Py\n",
      "7. gram Python\n",
      "8. Pemrograman Py\n"
     ]
    }
   ],
   "source": [
    "kalimat = \"Belajar Pemrograman Python\"\n",
    "print (f\"1. {kalimat[0:7]}\")\n",
    "print (f\"2. {kalimat[3:7]}\")\n",
    "print (f\"3. {kalimat[8:19]}\")\n",
    "print (f\"4. {kalimat[13:17]}\")\n",
    "print (f\"5. {kalimat[20:26]}\")\n",
    "print (f\"6. {kalimat[20:22]}\")\n",
    "print (f\"7. {kalimat[13:17]} {kalimat[20:26]}\")\n",
    "print (f\"8. {kalimat[8:19]} {kalimat[20:22]}\")"
   ]
  },
  {
   "cell_type": "markdown",
   "id": "4f303386",
   "metadata": {},
   "source": [
    "<h1>Latihan</h1>\n",
    "1. Buatlah program untuk mengecek bahwa sebuah email termasuk valid atau tidak. Valid diartikan <b>True</b> dan tidak valid diartikan <b>False</b>\n",
    "Berikut contoh <i>test case</i> yang bisa digunakan sebagai acuan \n",
    "<ol>\n",
    "    <li>alunsujjada@gmailcom -> False</li>\n",
    "    <li>alunsujjada@gmail.com -> True</li>\n",
    "    <li>alun.sujjada@gmail.com -> False</li>\n",
    "    <li>alunsujjada.gmail.com -> False</li>\n",
    "    <li>alun.sujjada@gmailcom -> False</li>\n",
    "</ol>"
   ]
  },
  {
   "cell_type": "code",
   "execution_count": 16,
   "id": "560f3d8b",
   "metadata": {},
   "outputs": [
    {
     "name": "stdout",
     "output_type": "stream",
     "text": [
      "masukan email anda :alunsujjada.gmail.com\n",
      "True\n"
     ]
    }
   ],
   "source": [
    "email = input(\"masukan email anda :\")\n",
    "\n",
    "post_at = email.find('@')\n",
    "post_dot = email.find('.')\n",
    "\n",
    "print(post_at < post_dot)"
   ]
  },
  {
   "cell_type": "code",
   "execution_count": null,
   "id": "88199e7a",
   "metadata": {},
   "outputs": [],
   "source": []
  }
 ],
 "metadata": {
  "kernelspec": {
   "display_name": "Python 3 (ipykernel)",
   "language": "python",
   "name": "python3"
  },
  "language_info": {
   "codemirror_mode": {
    "name": "ipython",
    "version": 3
   },
   "file_extension": ".py",
   "mimetype": "text/x-python",
   "name": "python",
   "nbconvert_exporter": "python",
   "pygments_lexer": "ipython3",
   "version": "3.9.12"
  }
 },
 "nbformat": 4,
 "nbformat_minor": 5
}
